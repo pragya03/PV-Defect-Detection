{
 "cells": [
  {
   "cell_type": "code",
   "execution_count": 1,
   "metadata": {},
   "outputs": [
    {
     "name": "stderr",
     "output_type": "stream",
     "text": [
      "C:\\Users\\HP\\anaconda3\\lib\\site-packages\\pandas\\core\\computation\\expressions.py:20: UserWarning: Pandas requires version '2.7.3' or newer of 'numexpr' (version '2.7.1' currently installed).\n",
      "  from pandas.core.computation.check import NUMEXPR_INSTALLED\n"
     ]
    }
   ],
   "source": [
    "# --- 1. Import Libraries ---\n",
    "import pandas as pd\n",
    "import numpy as np\n",
    "import os\n",
    "import cv2\n",
    "from sklearn.model_selection import KFold\n",
    "from sklearn.ensemble import RandomForestClassifier\n",
    "from sklearn.metrics import accuracy_score, precision_score, recall_score, f1_score"
   ]
  },
  {
   "cell_type": "code",
   "execution_count": 2,
   "metadata": {},
   "outputs": [],
   "source": [
    "# --- 2. Set Paths ---\n",
    "csv_path = r'C:\\Users\\HP\\Downloads\\elpv_dataset\\elpv_dataset-1.0.0.post1\\src\\elpv_dataset\\data\\labels.csv'\n",
    "img_dir = r'C:\\Users\\HP\\Downloads\\elpv_dataset\\elpv_dataset-1.0.0.post1\\src\\elpv_dataset\\data\\images'"
   ]
  },
  {
   "cell_type": "code",
   "execution_count": 3,
   "metadata": {},
   "outputs": [
    {
     "name": "stdout",
     "output_type": "stream",
     "text": [
      "Data Shape: (2623, 1)\n",
      "   images/cell0001.png  1.0                 mono\n",
      "0  images/cell0002.png  1.0                 mono\n",
      "1  images/cell0003.png  1.0                 mono\n",
      "2  images/cell0004.png  0.0                 mono\n",
      "3  images/cell0005.png  1.0                 mono\n",
      "4  images/cell0006.png  1.0                 mono\n"
     ]
    }
   ],
   "source": [
    "# --- 3. Data Collection ---\n",
    "df = pd.read_csv(csv_path)\n",
    "print(\"Data Shape:\", df.shape)\n",
    "print(df.head())"
   ]
  },
  {
   "cell_type": "code",
   "execution_count": 4,
   "metadata": {},
   "outputs": [
    {
     "name": "stdout",
     "output_type": "stream",
     "text": [
      "            image_path  class  type\n",
      "0  images/cell0001.png    1.0  mono\n",
      "1  images/cell0002.png    1.0  mono\n",
      "2  images/cell0003.png    1.0  mono\n",
      "3  images/cell0004.png    0.0  mono\n",
      "4  images/cell0005.png    1.0  mono\n"
     ]
    }
   ],
   "source": [
    "# --- 4. Preprocessing ---\n",
    "def load_images(image_names, img_dir, size=(64, 64)):\n",
    "    images = []\n",
    "    for name in image_names:\n",
    "        path = os.path.join(img_dir, name.lstrip(\"images/\"))\n",
    "        img = cv2.imread(path)\n",
    "        if img is not None:\n",
    "            img = cv2.resize(img, size)\n",
    "            images.append(img.flatten())\n",
    "        else:\n",
    "            images.append(np.zeros(size[0] * size[1] * 3))\n",
    "    return np.array(images)\n",
    "\n",
    "# Reload CSV with proper delimiter\n",
    "df = pd.read_csv(csv_path, sep=r'\\s+', header=None, engine='python')\n",
    "df.columns = ['image_path', 'class', 'type']  # Rename columns appropriately\n",
    "\n",
    "print(df.head())\n",
    "X = load_images(df['image_path'], img_dir)\n",
    "y = df['class']"
   ]
  },
  {
   "cell_type": "code",
   "execution_count": 15,
   "metadata": {},
   "outputs": [
    {
     "name": "stdout",
     "output_type": "stream",
     "text": [
      "\n",
      "--- Round 1 ---\n",
      "Accuracy: 0.8590, Precision: 0.8472, Recall: 0.7729, F1: 0.7990\n",
      "\n",
      "--- Round 2 ---\n",
      "Accuracy: 0.8210, Precision: 0.7960, Recall: 0.7518, F1: 0.7679\n",
      "\n",
      "--- Round 3 ---\n",
      "Accuracy: 0.8552, Precision: 0.8306, Recall: 0.7624, F1: 0.7871\n",
      "\n",
      "--- Round 4 ---\n",
      "Accuracy: 0.8076, Precision: 0.7776, Recall: 0.7347, F1: 0.7500\n",
      "\n",
      "--- Round 5 ---\n",
      "Accuracy: 0.8321, Precision: 0.7940, Recall: 0.7433, F1: 0.7622\n"
     ]
    }
   ],
   "source": [
    "# --- 5. Cross Validation Setup (K-Fold) ---\n",
    "kf = KFold(n_splits=5, shuffle=True, random_state=42)\n",
    "metrics_summary = []\n",
    "\n",
    "round_num = 1\n",
    "for train_index, test_index in kf.split(X):\n",
    "    print(f\"\\n--- Round {round_num} ---\")\n",
    "\n",
    "    # --- Grey Box Testing: Train and Reason ---\n",
    "    X_train, X_test = X[train_index], X[test_index]\n",
    "    \n",
    "    # Ensure y is a NumPy array of integers\n",
    "    y_array = y.values.astype(int)\n",
    "    y_train, y_test = y_array[train_index], y_array[test_index]\n",
    "\n",
    "    model = RandomForestClassifier(n_estimators=100, random_state=42)\n",
    "\n",
    "    model.fit(X_train, y_train)\n",
    "    y_pred = model.predict(X_test)\n",
    "\n",
    "    # --- Indicator Statistics ---\n",
    "    acc = accuracy_score(y_test, y_pred)\n",
    "    prec = precision_score(y_test, y_pred, average='macro', zero_division=0)\n",
    "    rec = recall_score(y_test, y_pred, average='macro', zero_division=0)\n",
    "    f1 = f1_score(y_test, y_pred, average='macro', zero_division=0)\n",
    "\n",
    "    print(f\"Accuracy: {acc:.4f}, Precision: {prec:.4f}, Recall: {rec:.4f}, F1: {f1:.4f}\")\n",
    "    metrics_summary.append([acc, prec, rec, f1])\n",
    "\n",
    "    round_num += 1"
   ]
  },
  {
   "cell_type": "code",
   "execution_count": 16,
   "metadata": {},
   "outputs": [
    {
     "name": "stdout",
     "output_type": "stream",
     "text": [
      "\n",
      "--- Average Metrics Over All Rounds ---\n",
      "Accuracy: 0.8350\n",
      "Precision: 0.8091\n",
      "Recall: 0.7530\n",
      "F1 Score: 0.7732\n"
     ]
    }
   ],
   "source": [
    "# --- 6. Calculate Average ---\n",
    "metrics_array = np.array(metrics_summary)\n",
    "average_metrics = metrics_array.mean(axis=0)\n",
    "metric_names = [\"Accuracy\", \"Precision\", \"Recall\", \"F1 Score\"]\n",
    "\n",
    "print(\"\\n--- Average Metrics Over All Rounds ---\")\n",
    "for name, value in zip(metric_names, average_metrics):\n",
    "    print(f\"{name}: {value:.4f}\")"
   ]
  },
  {
   "cell_type": "code",
   "execution_count": 7,
   "metadata": {},
   "outputs": [
    {
     "name": "stdout",
     "output_type": "stream",
     "text": [
      "\n",
      "Detailed Results per Round:\n",
      "         Accuracy  Precision    Recall  F1 Score\n",
      "0        0.859048   0.847240  0.772943  0.798971\n",
      "1        0.820952   0.795988  0.751777  0.767900\n",
      "2        0.855238   0.830565  0.762433  0.787105\n",
      "3        0.807619   0.777601  0.734746  0.750025\n",
      "4        0.832061   0.793956  0.743329  0.762211\n",
      "Average  0.834984   0.809070  0.753046  0.773242\n"
     ]
    }
   ],
   "source": [
    "# --- 7. Compare Results ---\n",
    "results_df = pd.DataFrame(metrics_summary, columns=metric_names)\n",
    "results_df.loc['Average'] = average_metrics\n",
    "print(\"\\nDetailed Results per Round:\")\n",
    "print(results_df)"
   ]
  },
  {
   "cell_type": "code",
   "execution_count": 8,
   "metadata": {},
   "outputs": [
    {
     "data": {
      "image/png": "[encoded data removed]",
      "text/plain": [
       "<Figure size 720x432 with 1 Axes>"
      ]
     },
     "metadata": {
      "needs_background": "light"
     },
     "output_type": "display_data"
    }
   ],
   "source": [
    "import matplotlib.pyplot as plt\n",
    "\n",
    "# Plot metrics across folds\n",
    "plt.figure(figsize=(10, 6))\n",
    "for i, metric in enumerate(metric_names):\n",
    "    plt.plot(range(1, 6), metrics_array[:, i], marker='o', label=metric)\n",
    "\n",
    "plt.title('Model Performance per Fold')\n",
    "plt.xlabel('Fold')\n",
    "plt.ylabel('Score')\n",
    "plt.xticks(range(1, 6))\n",
    "plt.ylim(0, 1)\n",
    "plt.grid(True)\n",
    "plt.legend()\n",
    "plt.tight_layout()\n",
    "plt.show()"
   ]
  },
  {
   "cell_type": "code",
   "execution_count": 9,
   "metadata": {},
   "outputs": [
    {
     "data": {
      "image/png": "[encoded data removed]",
      "text/plain": [
       "<Figure size 432x288 with 2 Axes>"
      ]
     },
     "metadata": {
      "needs_background": "light"
     },
     "output_type": "display_data"
    }
   ],
   "source": [
    "from sklearn.metrics import ConfusionMatrixDisplay\n",
    "\n",
    "# Plot confusion matrix of the last fold\n",
    "ConfusionMatrixDisplay.from_estimator(model, X_test, y_test, cmap='Blues')\n",
    "plt.title('Confusion Matrix (Last Fold)')\n",
    "plt.tight_layout()\n",
    "plt.show()"
   ]
  },
  {
   "cell_type": "code",
   "execution_count": null,
   "metadata": {},
   "outputs": [],
   "source": []
  }
 ],
 "metadata": {
  "kernelspec": {
   "display_name": "Python 3",
   "language": "python",
   "name": "python3"
  },
  "language_info": {
   "codemirror_mode": {
    "name": "ipython",
    "version": 3
   },
   "file_extension": ".py",
   "mimetype": "text/x-python",
   "name": "python",
   "nbconvert_exporter": "python",
   "pygments_lexer": "ipython3",
   "version": "3.8.5"
  }
 },
 "nbformat": 4,
 "nbformat_minor": 4
}
